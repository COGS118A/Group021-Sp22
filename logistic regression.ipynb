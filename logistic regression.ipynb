{
 "cells": [
  {
   "cell_type": "markdown",
   "metadata": {},
   "source": [
    "# COGS 118A- Project Checkpoint"
   ]
  },
  {
   "cell_type": "markdown",
   "metadata": {},
   "source": [
    "# Names\n",
    "\n",
    "- Jonathan Park\n",
    "- Daniel Lee\n",
    "- Suebeen Noh\n",
    "- Franklin Le\n",
    "- Daniel Renteria"
   ]
  },
  {
   "cell_type": "markdown",
   "metadata": {},
   "source": [
    "# Abstract \n",
    "\n",
    "The goal of our project is to use NBA player data to create a machine learning algorithm that will predict the likelihood of a player becoming an all-star. We will be looking at different player statistics from each regular season from 2011/12 through 2021/22 to create a regression line that predicts the likelihood of a player becoming an all-star. Success will be measured by testing the created model with earlier stats from players who became all-stars and seeing how accurate the predictions are."
   ]
  },
  {
   "cell_type": "markdown",
   "metadata": {},
   "source": [
    "# Background\n",
    "\n",
    "Around halfway through each NBA season, fans and media members vote on their favorite NBA players to play in the All-Star game. Fans are able to vote through various online means such as the NBA app, NBA website, and via Twitter<a name=\"voting\"></a>[<sup>[1]</sup>](#votinginfo), and represent 50% of the overall vote. Media members and current players make up the other 50%. Being selected as an all-star is a prestigious accomplishment, and many players take pride in the number of all-star games they participated in as a mark of their legacy and impact on basketball.\n",
    "\n",
    "For teams, it is vital to scout and sign players that they believe have the growth potential to become all-star level players, but do not yet command an enormous salary. This is because the NBA has a salary cap system, where there is a maximum amount of money they are able to spend on player salaries in one season. In the 2021/22 season for example, the salary cap was set to 112.4 million dollars<a name=\"salary\"></a>[<sup>[2]</sup>](#salarycapinfo). This sounds like a lot of money, but when top players make upwards of $50 million by themselves, this salary cap gets filled quickly. Because teams are looking for cheaper players with more growth potential, we believe that we can use machine learning to support the scouting systems already in place.\n",
    "\n",
    "In terms of prior work already done on this subject, there is already a lot of work being done in this particular field. For example, ESPN created a model in 2017 to predict which draft picks are likely to become all-stars <a name=\"espn\"></a>[<sup>[3]</sup>](#espnpredict). NBA teams often have their own analytics departments, and media outlets such as ESPN also recognize the power of using machine learning and analytics to predict which players have the most potential. We will be working to build off the wealth of knowledge afforded to us and create our own model that works as effectively as any others."
   ]
  },
  {
   "cell_type": "markdown",
   "metadata": {},
   "source": [
    "# Problem Statement\n",
    "\n",
    "The problem we are looking to answer is to predict which NBA players have the most potential to become all-stars. We will be using a variety of player stats and variables to create a model that can predict the growth of a player, and use that predicted growth to make an educated guess about the likelihood that they will become an all-star in the future. Given that we will be using 10 seasons of player data to build our player growth model, we feel that the volume of data will be adequate to ensure that the model will have a solid base of relatively unbiased data. This problem will be able to be replicated and expanded quite easily by adding more seasons of player data and including a wider range of players. We will also be able to test the model many times because every season there are new all-stars that are selected, and we can use this information to check the accuracy of the player growth model and making accurate all-star predictions."
   ]
  },
  {
   "cell_type": "markdown",
   "metadata": {},
   "source": [
    "# Data\n",
    "\n",
    "The data we will be using will come from an online NBA data resource called basketball-reference.com. This site includes all of the player data we will need from each season. Given that we will be working with 10 seasons of data from 2011/12 through 2021/22, we expect to have a dataset of about 5,000 - 6,000 observations and we will be looking at around 8 - 10 variables.\n",
    "\n",
    "- Example: https://www.basketball-reference.com/leagues/NBA_2019_per_game.html\n",
    "- Each season has 500 - 600 observations, so 10 seasons of data will give 5,000 - 6,000 observations.\n",
    "- Each observation is a player. Each observation has 28 variables, including Games, Team, Points, Rebounds, etc. We will be reducing the number of variables to only include the most relevant ones in determining all-star selection.\n",
    "- Some critical variables that will be included (but not limited to): Points per Game, 2-Point Percentage, Position, Assists per Game\n",
    "- The data we will use from basketball reference is already very clean, but likely we will remove any players that were only in the NBA for 1 season (given no growth to track), players with no NBA minutes played, and reduce the number of variables we will be looking at."
   ]
  },
  {
   "cell_type": "code",
   "execution_count": 1,
   "metadata": {},
   "outputs": [],
   "source": [
    "#importing data and packages\n",
    "import pandas as pd\n",
    "import numpy as np\n",
    "#TODO: PUT IN THE Y VALUES IN BASIC SINCE SOME PLAYERS DON'T GET ALL STAR EACH YEAR, EITHER SPLIT UP DATA FROM NBA_ALL_STARS OR USE PANDAS TO MATCH CORRECT VALUES\n",
    "NBA_Data = pd.DataFrame()\n",
    "All_Stars = pd.read_csv('DATA/NBA_ALL_STARS.csv', encoding = \"ISO-8859-1\")\n",
    "per_game_cols = ['TRB', 'AST','BLK','PTS']\n",
    "\n",
    "def name_change(a):\n",
    "    name = a.split('\\\\')[0]\n",
    "    if '*' in name:\n",
    "        name = name.split('*')[0]\n",
    "    return name\n",
    "\n",
    "def returnZero(a,b):\n",
    "        if a in list(b):\n",
    "            return 1\n",
    "        else:\n",
    "            return 0\n",
    "\n",
    "for i in range(13):\n",
    "    basic = pd.read_csv(f'DATA/NBA_STATS_{2010+i}.csv')\n",
    "    advanced = pd.read_csv(f'DATA/AD_NBA_STATS_{2010+i}.csv')\n",
    "    cols_to_use = advanced.columns.difference(basic.columns)\n",
    "    basic = pd.concat([basic, advanced[cols_to_use]],axis=1)\n",
    "    pergame = pd.read_csv(f'DATA/NBA_PerGame_{2010+i}.csv')\n",
    "    cols_to_use = pergame.columns.difference(basic.columns)\n",
    "    pergame_rename = {'TRB': 'Rebounds Per Game', 'AST': 'Assists Per Game', 'BLK': 'Blocks Per Game','PTS': 'Points Per Game'}\n",
    "    pergame.rename(columns=pergame_rename, inplace=True)\n",
    "    pergame = pergame[['Rebounds Per Game', 'Assists Per Game', 'Blocks Per Game','Points Per Game']]\n",
    "    basic = pd.concat([basic, pergame],axis=1)\n",
    "    basic['Player'] = basic['Player'].apply(lambda x: name_change(x))\n",
    "    basic.drop_duplicates(subset=['Player'], keep='first', inplace = True)\n",
    "    basic['All Stars'] = basic['Player'].apply(lambda x : returnZero(x,All_Stars[str(2010+i)]))\n",
    "    NBA_Data = pd.concat([NBA_Data, basic], axis=0)"
   ]
  },
  {
   "cell_type": "code",
   "execution_count": 2,
   "metadata": {},
   "outputs": [],
   "source": [
    "#dropping duplicates, and unnecessary data\n",
    "renameColumns = {'2P%': '2 Point Field Goal Percentage', '3P%': '3 Point Field Goal Percentage', \n",
    "                 'AST': 'Assists', 'PER': 'Player Efficiency Rating','TS%': 'True Shooting Percentage',\n",
    "                 'USG%': 'Usage Percentage', 'WS/48': 'Win Shares Per 48 Minutes',\n",
    "                 }\n",
    "NBA_Data.rename(columns=renameColumns, inplace=True)\n",
    "relevant_cols = ['Pos','Player', '3 Point Field Goal Percentage', '2 Point Field Goal Percentage', \n",
    "                'Player Efficiency Rating', 'True Shooting Percentage', 'Usage Percentage', \n",
    "                'Win Shares Per 48 Minutes', 'Rebounds Per Game', 'All Stars',\n",
    "                'Assists Per Game', 'Blocks Per Game', 'Points Per Game']\n",
    "NBA_Data = NBA_Data[relevant_cols]\n",
    "NBA_Data.reset_index(drop=True, inplace = True)"
   ]
  },
  {
   "cell_type": "code",
   "execution_count": 3,
   "metadata": {},
   "outputs": [],
   "source": [
    "#one hot encoding\n",
    "np.where(NBA_Data['Pos'].isin(['PF', 'PG','SF','SG', 'C']), NBA_Data['Pos'], 'other')\n",
    "posTemp = pd.get_dummies(NBA_Data['Pos'])\n",
    "NBA_Data = pd.concat([NBA_Data,posTemp], axis=1)\n",
    "\n",
    "def one_hot_multi(x):\n",
    "    for i in x['Pos'].split('-'):\n",
    "        x[i] = 1\n",
    "    return x\n",
    "\n",
    "NBA_Data[NBA_Data['Pos'].str.contains('-')] = NBA_Data[NBA_Data['Pos'].str.contains('-')].apply(lambda x: one_hot_multi(x), axis = 1)\n",
    "NBA_Data = NBA_Data[NBA_Data.columns.drop(list(NBA_Data.filter(regex='-')))]\n",
    "NBA_Data.drop(columns = ['Player','Pos'], inplace = True)\n",
    "NBA_Data.rename(columns={'C':'Center','PF':'Power Forward','PG':'Point Guard','SF':'Small Forward','SG':'Shooting Guard'}, inplace=True)\n",
    "NBA_Data.fillna(0, inplace=True)\n"
   ]
  },
  {
   "cell_type": "code",
   "execution_count": 4,
   "metadata": {
    "scrolled": false
   },
   "outputs": [
    {
     "data": {
      "text/html": [
       "<div>\n",
       "<style scoped>\n",
       "    .dataframe tbody tr th:only-of-type {\n",
       "        vertical-align: middle;\n",
       "    }\n",
       "\n",
       "    .dataframe tbody tr th {\n",
       "        vertical-align: top;\n",
       "    }\n",
       "\n",
       "    .dataframe thead th {\n",
       "        text-align: right;\n",
       "    }\n",
       "</style>\n",
       "<table border=\"1\" class=\"dataframe\">\n",
       "  <thead>\n",
       "    <tr style=\"text-align: right;\">\n",
       "      <th></th>\n",
       "      <th>3 Point Field Goal Percentage</th>\n",
       "      <th>2 Point Field Goal Percentage</th>\n",
       "      <th>Player Efficiency Rating</th>\n",
       "      <th>True Shooting Percentage</th>\n",
       "      <th>Usage Percentage</th>\n",
       "      <th>Win Shares Per 48 Minutes</th>\n",
       "      <th>Rebounds Per Game</th>\n",
       "      <th>All Stars</th>\n",
       "      <th>Assists Per Game</th>\n",
       "      <th>Blocks Per Game</th>\n",
       "      <th>Points Per Game</th>\n",
       "      <th>Center</th>\n",
       "      <th>Power Forward</th>\n",
       "      <th>Point Guard</th>\n",
       "      <th>Small Forward</th>\n",
       "      <th>Shooting Guard</th>\n",
       "    </tr>\n",
       "  </thead>\n",
       "  <tbody>\n",
       "    <tr>\n",
       "      <th>13</th>\n",
       "      <td>0.316</td>\n",
       "      <td>0.478</td>\n",
       "      <td>22.2</td>\n",
       "      <td>0.548</td>\n",
       "      <td>33.4</td>\n",
       "      <td>0.145</td>\n",
       "      <td>6.6</td>\n",
       "      <td>1</td>\n",
       "      <td>3.2</td>\n",
       "      <td>0.4</td>\n",
       "      <td>28.2</td>\n",
       "      <td>0</td>\n",
       "      <td>0</td>\n",
       "      <td>0</td>\n",
       "      <td>1</td>\n",
       "      <td>0</td>\n",
       "    </tr>\n",
       "    <tr>\n",
       "      <th>44</th>\n",
       "      <td>0.386</td>\n",
       "      <td>0.441</td>\n",
       "      <td>20.2</td>\n",
       "      <td>0.601</td>\n",
       "      <td>24.3</td>\n",
       "      <td>0.182</td>\n",
       "      <td>3.1</td>\n",
       "      <td>1</td>\n",
       "      <td>5.6</td>\n",
       "      <td>0.1</td>\n",
       "      <td>19.5</td>\n",
       "      <td>0</td>\n",
       "      <td>0</td>\n",
       "      <td>1</td>\n",
       "      <td>0</td>\n",
       "      <td>0</td>\n",
       "    </tr>\n",
       "    <tr>\n",
       "      <th>53</th>\n",
       "      <td>0.364</td>\n",
       "      <td>0.521</td>\n",
       "      <td>25.0</td>\n",
       "      <td>0.592</td>\n",
       "      <td>28.7</td>\n",
       "      <td>0.182</td>\n",
       "      <td>10.8</td>\n",
       "      <td>1</td>\n",
       "      <td>2.4</td>\n",
       "      <td>1.0</td>\n",
       "      <td>24.0</td>\n",
       "      <td>1</td>\n",
       "      <td>0</td>\n",
       "      <td>0</td>\n",
       "      <td>0</td>\n",
       "      <td>0</td>\n",
       "    </tr>\n",
       "    <tr>\n",
       "      <th>67</th>\n",
       "      <td>0.329</td>\n",
       "      <td>0.487</td>\n",
       "      <td>21.9</td>\n",
       "      <td>0.545</td>\n",
       "      <td>32.3</td>\n",
       "      <td>0.160</td>\n",
       "      <td>5.4</td>\n",
       "      <td>1</td>\n",
       "      <td>5.0</td>\n",
       "      <td>0.3</td>\n",
       "      <td>27.0</td>\n",
       "      <td>0</td>\n",
       "      <td>0</td>\n",
       "      <td>0</td>\n",
       "      <td>0</td>\n",
       "      <td>1</td>\n",
       "    </tr>\n",
       "    <tr>\n",
       "      <th>122</th>\n",
       "      <td>0.182</td>\n",
       "      <td>0.522</td>\n",
       "      <td>24.7</td>\n",
       "      <td>0.560</td>\n",
       "      <td>26.0</td>\n",
       "      <td>0.215</td>\n",
       "      <td>10.1</td>\n",
       "      <td>1</td>\n",
       "      <td>3.2</td>\n",
       "      <td>1.5</td>\n",
       "      <td>17.9</td>\n",
       "      <td>1</td>\n",
       "      <td>0</td>\n",
       "      <td>0</td>\n",
       "      <td>0</td>\n",
       "      <td>0</td>\n",
       "    </tr>\n",
       "    <tr>\n",
       "      <th>...</th>\n",
       "      <td>...</td>\n",
       "      <td>...</td>\n",
       "      <td>...</td>\n",
       "      <td>...</td>\n",
       "      <td>...</td>\n",
       "      <td>...</td>\n",
       "      <td>...</td>\n",
       "      <td>...</td>\n",
       "      <td>...</td>\n",
       "      <td>...</td>\n",
       "      <td>...</td>\n",
       "      <td>...</td>\n",
       "      <td>...</td>\n",
       "      <td>...</td>\n",
       "      <td>...</td>\n",
       "      <td>...</td>\n",
       "    </tr>\n",
       "    <tr>\n",
       "      <th>6439</th>\n",
       "      <td>0.353</td>\n",
       "      <td>0.524</td>\n",
       "      <td>21.8</td>\n",
       "      <td>0.578</td>\n",
       "      <td>32.1</td>\n",
       "      <td>0.169</td>\n",
       "      <td>8.0</td>\n",
       "      <td>1</td>\n",
       "      <td>4.4</td>\n",
       "      <td>0.6</td>\n",
       "      <td>26.9</td>\n",
       "      <td>0</td>\n",
       "      <td>0</td>\n",
       "      <td>0</td>\n",
       "      <td>1</td>\n",
       "      <td>0</td>\n",
       "    </tr>\n",
       "    <tr>\n",
       "      <th>6459</th>\n",
       "      <td>0.410</td>\n",
       "      <td>0.580</td>\n",
       "      <td>24.1</td>\n",
       "      <td>0.640</td>\n",
       "      <td>27.8</td>\n",
       "      <td>0.199</td>\n",
       "      <td>9.8</td>\n",
       "      <td>1</td>\n",
       "      <td>3.6</td>\n",
       "      <td>1.1</td>\n",
       "      <td>24.6</td>\n",
       "      <td>1</td>\n",
       "      <td>0</td>\n",
       "      <td>0</td>\n",
       "      <td>0</td>\n",
       "      <td>0</td>\n",
       "    </tr>\n",
       "    <tr>\n",
       "      <th>6467</th>\n",
       "      <td>0.377</td>\n",
       "      <td>0.440</td>\n",
       "      <td>17.3</td>\n",
       "      <td>0.552</td>\n",
       "      <td>23.7</td>\n",
       "      <td>0.131</td>\n",
       "      <td>4.4</td>\n",
       "      <td>1</td>\n",
       "      <td>6.7</td>\n",
       "      <td>0.5</td>\n",
       "      <td>20.3</td>\n",
       "      <td>0</td>\n",
       "      <td>0</td>\n",
       "      <td>1</td>\n",
       "      <td>0</td>\n",
       "      <td>0</td>\n",
       "    </tr>\n",
       "    <tr>\n",
       "      <th>6495</th>\n",
       "      <td>0.393</td>\n",
       "      <td>0.513</td>\n",
       "      <td>15.0</td>\n",
       "      <td>0.560</td>\n",
       "      <td>23.1</td>\n",
       "      <td>0.105</td>\n",
       "      <td>4.5</td>\n",
       "      <td>1</td>\n",
       "      <td>2.2</td>\n",
       "      <td>0.7</td>\n",
       "      <td>17.2</td>\n",
       "      <td>0</td>\n",
       "      <td>0</td>\n",
       "      <td>0</td>\n",
       "      <td>1</td>\n",
       "      <td>0</td>\n",
       "    </tr>\n",
       "    <tr>\n",
       "      <th>6515</th>\n",
       "      <td>0.382</td>\n",
       "      <td>0.512</td>\n",
       "      <td>25.4</td>\n",
       "      <td>0.603</td>\n",
       "      <td>34.4</td>\n",
       "      <td>0.181</td>\n",
       "      <td>3.7</td>\n",
       "      <td>1</td>\n",
       "      <td>9.7</td>\n",
       "      <td>0.1</td>\n",
       "      <td>28.4</td>\n",
       "      <td>0</td>\n",
       "      <td>0</td>\n",
       "      <td>1</td>\n",
       "      <td>0</td>\n",
       "      <td>0</td>\n",
       "    </tr>\n",
       "  </tbody>\n",
       "</table>\n",
       "<p>322 rows × 16 columns</p>\n",
       "</div>"
      ],
      "text/plain": [
       "      3 Point Field Goal Percentage  2 Point Field Goal Percentage  \\\n",
       "13                            0.316                          0.478   \n",
       "44                            0.386                          0.441   \n",
       "53                            0.364                          0.521   \n",
       "67                            0.329                          0.487   \n",
       "122                           0.182                          0.522   \n",
       "...                             ...                            ...   \n",
       "6439                          0.353                          0.524   \n",
       "6459                          0.410                          0.580   \n",
       "6467                          0.377                          0.440   \n",
       "6495                          0.393                          0.513   \n",
       "6515                          0.382                          0.512   \n",
       "\n",
       "      Player Efficiency Rating  True Shooting Percentage  Usage Percentage  \\\n",
       "13                        22.2                     0.548              33.4   \n",
       "44                        20.2                     0.601              24.3   \n",
       "53                        25.0                     0.592              28.7   \n",
       "67                        21.9                     0.545              32.3   \n",
       "122                       24.7                     0.560              26.0   \n",
       "...                        ...                       ...               ...   \n",
       "6439                      21.8                     0.578              32.1   \n",
       "6459                      24.1                     0.640              27.8   \n",
       "6467                      17.3                     0.552              23.7   \n",
       "6495                      15.0                     0.560              23.1   \n",
       "6515                      25.4                     0.603              34.4   \n",
       "\n",
       "      Win Shares Per 48 Minutes  Rebounds Per Game  All Stars  \\\n",
       "13                        0.145                6.6          1   \n",
       "44                        0.182                3.1          1   \n",
       "53                        0.182               10.8          1   \n",
       "67                        0.160                5.4          1   \n",
       "122                       0.215               10.1          1   \n",
       "...                         ...                ...        ...   \n",
       "6439                      0.169                8.0          1   \n",
       "6459                      0.199                9.8          1   \n",
       "6467                      0.131                4.4          1   \n",
       "6495                      0.105                4.5          1   \n",
       "6515                      0.181                3.7          1   \n",
       "\n",
       "      Assists Per Game  Blocks Per Game  Points Per Game  Center  \\\n",
       "13                 3.2              0.4             28.2       0   \n",
       "44                 5.6              0.1             19.5       0   \n",
       "53                 2.4              1.0             24.0       1   \n",
       "67                 5.0              0.3             27.0       0   \n",
       "122                3.2              1.5             17.9       1   \n",
       "...                ...              ...              ...     ...   \n",
       "6439               4.4              0.6             26.9       0   \n",
       "6459               3.6              1.1             24.6       1   \n",
       "6467               6.7              0.5             20.3       0   \n",
       "6495               2.2              0.7             17.2       0   \n",
       "6515               9.7              0.1             28.4       0   \n",
       "\n",
       "      Power Forward  Point Guard  Small Forward  Shooting Guard  \n",
       "13                0            0              1               0  \n",
       "44                0            1              0               0  \n",
       "53                0            0              0               0  \n",
       "67                0            0              0               1  \n",
       "122               0            0              0               0  \n",
       "...             ...          ...            ...             ...  \n",
       "6439              0            0              1               0  \n",
       "6459              0            0              0               0  \n",
       "6467              0            1              0               0  \n",
       "6495              0            0              1               0  \n",
       "6515              0            1              0               0  \n",
       "\n",
       "[322 rows x 16 columns]"
      ]
     },
     "execution_count": 4,
     "metadata": {},
     "output_type": "execute_result"
    }
   ],
   "source": [
    "NBA_Data[NBA_Data['All Stars'] == 1]"
   ]
  },
  {
   "cell_type": "code",
   "execution_count": 5,
   "metadata": {
    "scrolled": true
   },
   "outputs": [
    {
     "data": {
      "text/html": [
       "<div>\n",
       "<style scoped>\n",
       "    .dataframe tbody tr th:only-of-type {\n",
       "        vertical-align: middle;\n",
       "    }\n",
       "\n",
       "    .dataframe tbody tr th {\n",
       "        vertical-align: top;\n",
       "    }\n",
       "\n",
       "    .dataframe thead th {\n",
       "        text-align: right;\n",
       "    }\n",
       "</style>\n",
       "<table border=\"1\" class=\"dataframe\">\n",
       "  <thead>\n",
       "    <tr style=\"text-align: right;\">\n",
       "      <th></th>\n",
       "      <th>3 Point Field Goal Percentage</th>\n",
       "      <th>2 Point Field Goal Percentage</th>\n",
       "      <th>Player Efficiency Rating</th>\n",
       "      <th>True Shooting Percentage</th>\n",
       "      <th>Usage Percentage</th>\n",
       "      <th>Win Shares Per 48 Minutes</th>\n",
       "      <th>Rebounds Per Game</th>\n",
       "      <th>Assists Per Game</th>\n",
       "      <th>Blocks Per Game</th>\n",
       "      <th>Points Per Game</th>\n",
       "      <th>Center</th>\n",
       "      <th>Power Forward</th>\n",
       "      <th>Point Guard</th>\n",
       "      <th>Small Forward</th>\n",
       "      <th>Shooting Guard</th>\n",
       "    </tr>\n",
       "    <tr>\n",
       "      <th>All Stars</th>\n",
       "      <th></th>\n",
       "      <th></th>\n",
       "      <th></th>\n",
       "      <th></th>\n",
       "      <th></th>\n",
       "      <th></th>\n",
       "      <th></th>\n",
       "      <th></th>\n",
       "      <th></th>\n",
       "      <th></th>\n",
       "      <th></th>\n",
       "      <th></th>\n",
       "      <th></th>\n",
       "      <th></th>\n",
       "      <th></th>\n",
       "    </tr>\n",
       "  </thead>\n",
       "  <tbody>\n",
       "    <tr>\n",
       "      <th>0</th>\n",
       "      <td>0.263221</td>\n",
       "      <td>0.47785</td>\n",
       "      <td>12.387349</td>\n",
       "      <td>0.518895</td>\n",
       "      <td>18.121510</td>\n",
       "      <td>0.069663</td>\n",
       "      <td>3.375617</td>\n",
       "      <td>1.676360</td>\n",
       "      <td>0.382556</td>\n",
       "      <td>7.652509</td>\n",
       "      <td>0.197676</td>\n",
       "      <td>0.208488</td>\n",
       "      <td>0.189931</td>\n",
       "      <td>0.192997</td>\n",
       "      <td>0.230757</td>\n",
       "    </tr>\n",
       "    <tr>\n",
       "      <th>1</th>\n",
       "      <td>0.320938</td>\n",
       "      <td>0.51691</td>\n",
       "      <td>22.286957</td>\n",
       "      <td>0.577537</td>\n",
       "      <td>27.456522</td>\n",
       "      <td>0.176602</td>\n",
       "      <td>7.032609</td>\n",
       "      <td>5.042857</td>\n",
       "      <td>0.764286</td>\n",
       "      <td>21.614596</td>\n",
       "      <td>0.183230</td>\n",
       "      <td>0.195652</td>\n",
       "      <td>0.291925</td>\n",
       "      <td>0.170807</td>\n",
       "      <td>0.164596</td>\n",
       "    </tr>\n",
       "  </tbody>\n",
       "</table>\n",
       "</div>"
      ],
      "text/plain": [
       "           3 Point Field Goal Percentage  2 Point Field Goal Percentage  \\\n",
       "All Stars                                                                 \n",
       "0                               0.263221                        0.47785   \n",
       "1                               0.320938                        0.51691   \n",
       "\n",
       "           Player Efficiency Rating  True Shooting Percentage  \\\n",
       "All Stars                                                       \n",
       "0                         12.387349                  0.518895   \n",
       "1                         22.286957                  0.577537   \n",
       "\n",
       "           Usage Percentage  Win Shares Per 48 Minutes  Rebounds Per Game  \\\n",
       "All Stars                                                                   \n",
       "0                 18.121510                   0.069663           3.375617   \n",
       "1                 27.456522                   0.176602           7.032609   \n",
       "\n",
       "           Assists Per Game  Blocks Per Game  Points Per Game    Center  \\\n",
       "All Stars                                                                 \n",
       "0                  1.676360         0.382556         7.652509  0.197676   \n",
       "1                  5.042857         0.764286        21.614596  0.183230   \n",
       "\n",
       "           Power Forward  Point Guard  Small Forward  Shooting Guard  \n",
       "All Stars                                                             \n",
       "0               0.208488     0.189931       0.192997        0.230757  \n",
       "1               0.195652     0.291925       0.170807        0.164596  "
      ]
     },
     "execution_count": 5,
     "metadata": {},
     "output_type": "execute_result"
    }
   ],
   "source": [
    "NBA_Data.groupby('All Stars').mean()"
   ]
  },
  {
   "cell_type": "code",
   "execution_count": 40,
   "metadata": {},
   "outputs": [
    {
     "data": {
      "text/plain": [
       "0.9153374233128835"
      ]
     },
     "execution_count": 40,
     "metadata": {},
     "output_type": "execute_result"
    }
   ],
   "source": [
    "from sklearn.model_selection import train_test_split\n",
    "from sklearn.linear_model import LogisticRegression\n",
    "\n",
    "X = NBA_Data.loc[:, NBA_Data.columns != 'All Stars']\n",
    "y = NBA_Data['All Stars']\n",
    "\n",
    "x_train, x_test, y_train, y_test = train_test_split(X, y, test_size=0.25, random_state=0)\n",
    "clf = LogisticRegression(class_weight='balanced',random_state=0, max_iter=1000).fit(x_train, y_train.values.ravel())\n",
    "clf.score(x_test, y_test)"
   ]
  },
  {
   "cell_type": "code",
   "execution_count": 41,
   "metadata": {},
   "outputs": [
    {
     "name": "stdout",
     "output_type": "stream",
     "text": [
      "              precision    recall  f1-score   support\n",
      "\n",
      "           0       1.00      0.91      0.95      1549\n",
      "           1       0.36      0.94      0.52        81\n",
      "\n",
      "    accuracy                           0.92      1630\n",
      "   macro avg       0.68      0.93      0.74      1630\n",
      "weighted avg       0.97      0.92      0.93      1630\n",
      "\n"
     ]
    }
   ],
   "source": [
    "from sklearn.metrics import classification_report\n",
    "y_pred = clf.predict(x_test)\n",
    "print(classification_report(y_test, y_pred))"
   ]
  },
  {
   "cell_type": "markdown",
   "metadata": {},
   "source": [
    "Although our clf score was high, we can see from the classification report that model was not good at predicting all stars. \n",
    "It only scored high because of the large amount of non allstars compared to allstars."
   ]
  },
  {
   "cell_type": "code",
   "execution_count": 42,
   "metadata": {},
   "outputs": [
    {
     "data": {
      "text/plain": [
       "0    6197\n",
       "1     322\n",
       "Name: All Stars, dtype: int64"
      ]
     },
     "execution_count": 42,
     "metadata": {},
     "output_type": "execute_result"
    }
   ],
   "source": [
    "y.value_counts()"
   ]
  },
  {
   "cell_type": "code",
   "execution_count": 43,
   "metadata": {},
   "outputs": [
    {
     "data": {
      "text/plain": [
       "0.8881987577639752"
      ]
     },
     "execution_count": 43,
     "metadata": {},
     "output_type": "execute_result"
    }
   ],
   "source": [
    "#Tried to fix the problem with Random Undersampling\n",
    "\n",
    "new_Data = NBA_Data[NBA_Data['All Stars'] != 1].sample(322)\n",
    "Smaller_Sample = pd.concat([new_Data,NBA_Data[NBA_Data['All Stars'] == 1]] , axis=0)\n",
    "\n",
    "Smaller_Sample['All Stars'].value_counts()\n",
    "\n",
    "new_X = Smaller_Sample.loc[:, Smaller_Sample.columns != 'All Stars']\n",
    "new_y = Smaller_Sample.loc[:, Smaller_Sample.columns == 'All Stars']\n",
    "\n",
    "new_x_train, new_x_test, new_y_train, new_y_test = train_test_split(new_X, new_y, test_size=0.25, random_state=0)\n",
    "new_clf = LogisticRegression(random_state=0, max_iter=5000).fit(new_x_train, new_y_train.values.ravel())\n",
    "\n",
    "new_clf.score(new_x_test, new_y_test)"
   ]
  },
  {
   "cell_type": "code",
   "execution_count": 44,
   "metadata": {},
   "outputs": [
    {
     "name": "stdout",
     "output_type": "stream",
     "text": [
      "              precision    recall  f1-score   support\n",
      "\n",
      "           0       0.93      0.84      0.88        79\n",
      "           1       0.86      0.94      0.90        82\n",
      "\n",
      "    accuracy                           0.89       161\n",
      "   macro avg       0.89      0.89      0.89       161\n",
      "weighted avg       0.89      0.89      0.89       161\n",
      "\n"
     ]
    }
   ],
   "source": [
    "new_y_pred = new_clf.predict(new_x_test)\n",
    "print(classification_report(new_y_test, new_y_pred))"
   ]
  },
  {
   "cell_type": "code",
   "execution_count": 45,
   "metadata": {},
   "outputs": [
    {
     "name": "stdout",
     "output_type": "stream",
     "text": [
      "              precision    recall  f1-score   support\n",
      "\n",
      "           0       1.00      0.91      0.95      1549\n",
      "           1       0.34      0.93      0.50        81\n",
      "\n",
      "    accuracy                           0.91      1630\n",
      "   macro avg       0.67      0.92      0.72      1630\n",
      "weighted avg       0.96      0.91      0.93      1630\n",
      "\n"
     ]
    }
   ],
   "source": [
    "y_pred = new_clf.predict(x_test)\n",
    "print(classification_report(y_test, y_pred))"
   ]
  },
  {
   "cell_type": "markdown",
   "metadata": {},
   "source": [
    "However the model is not really good at generalizing the data, which means that it is still not fixing the problem of the data being unbalanced."
   ]
  },
  {
   "cell_type": "code",
   "execution_count": 46,
   "metadata": {},
   "outputs": [
    {
     "data": {
      "image/png": "[encoded data removed]",
      "text/plain": [
       "<Figure size 432x288 with 1 Axes>"
      ]
     },
     "metadata": {
      "needs_background": "light"
     },
     "output_type": "display_data"
    }
   ],
   "source": [
    "import matplotlib.pyplot as plt\n",
    "from sklearn.metrics import roc_auc_score\n",
    "from sklearn.metrics import roc_curve\n",
    "logit_roc_auc = roc_auc_score(new_y_test, new_clf.predict(new_x_test))\n",
    "fpr, tpr, thresholds = roc_curve(new_y_test, new_clf.predict_proba(new_x_test)[:,1])\n",
    "plt.figure()\n",
    "plt.plot(fpr, tpr, label='Logistic Regression (area = %0.2f)' % logit_roc_auc)\n",
    "plt.plot([0, 1], [0, 1],'r--')\n",
    "plt.xlim([0.0, 1.0])\n",
    "plt.ylim([0.0, 1.05])\n",
    "plt.xlabel('False Positive Rate')\n",
    "plt.ylabel('True Positive Rate')\n",
    "plt.title('Receiver operating characteristic')\n",
    "plt.legend(loc=\"lower right\")\n",
    "plt.show()"
   ]
  },
  {
   "cell_type": "markdown",
   "metadata": {},
   "source": [
    "We plan on using logisical regression and predict the next future all stars by trying to predict the 'All Stars' varaible 1 = yes and 0 = no, based off the other per-game stats. We will be using the data from col = ['Pos','Player', '3 Point Field Goal Percentage', '2 Point Field Goal Percentage', \n",
    "                'Player Efficiency Rating', 'True Shooting Percentage', 'Usage Percentage', \n",
    "                'Win Shares Per 48 Minutes', 'Rebounds Per Game',\n",
    "                'Assists Per Game', 'Blocks Per Game', 'Points Per Game'] as the X and have the 'All Stars' variable be the Y.\n",
    "\n",
    "Although we were unfortunately unable to create the regression model for now, one idea that comes to mind is creating a logistical regression model that only uses data, aka their per game stats, from \n",
    "past all stars. Then, using this model, we can perhaps place this model with the rest of the nba player's stats and see which players are closest to this model (have the smallest error). \n",
    "\n",
    "Another proposed idea may be a classification model. This model will use data from past all stars to create a decision boundary. This any player that passes this boundary will be predicted as an \n",
    "all star and those who do not pass this boundary will not. One potential problem with this issue is the concept of positions in the nba.\n",
    "\n",
    "One potential problem that will occur is how to determine the next all stars if there are too many good players in a given position. For example, the top 10 players in the league stats-wise might \n",
    "all be guards, but because the all-star selection is based off position, only 4 guards will be selected instead of all 10. One way to fix this problem may be to differentiate players off their positions, \n",
    "however this may not guarantee good results and may lead to inaccuracies in the predictions."
   ]
  },
  {
   "cell_type": "markdown",
   "metadata": {},
   "source": [
    "# Proposed Solution\n",
    "\n",
    "Although the problem statement may still be subject to change, the current proposed problem statement is to create a machine learning program that could predict the success of a player based on their stats, measuring success as being part of an all-star team selection. We will use past all stars as the training subjects and test on this year’s all stars to determine how accurate the program is. One way that we can program this machine learning algorithm is by creating a boundary line that can separate non-allstars from all-stars. \n",
    "\n",
    "This might not be a viable solution due to the sheer number of ways players can impact winning basketball, but since nba all-stars historically are chosen due to their offensive impact, creating a boundary that favors offensive statistics like points and assists may help in creating a more accurate boundary. If there happens to be more than the total amount of all-star selections available, the program can choose players that are farther away from the boundary relative to other players and vice versa for the opposite scenario."
   ]
  },
  {
   "cell_type": "markdown",
   "metadata": {},
   "source": [
    "# Evaluation Metrics\n",
    "\n",
    "One metric thet we'll be using is Precision. The reason we'll be using Precision is because there are more NBA Players that do not become All Stars than there are that do make it. Since it's highly selective, we believe that that there will be various false positives in our data sets since the stats could be so similar. The formula for precision is: $$ \\frac{True \\ Positive}{True \\ Positive \\ + False \\ Positive} $$\n",
    "\n",
    "We will also be using an F1-Score in order to see where the cut off is in our model. We went against ROC because this data is not balanced. In order to find the F1 score, you must know recall, which is $$ \\frac{True \\ Positive}{True \\ Positive \\ + False \\ Neative} $$\n",
    "then you can get F1, which is: $$F_{\\beta} = (1+\\beta^2)\\frac{Precision \\cdot Recall}{\\beta^2 \\cdot Precision + Recall} $$"
   ]
  },
  {
   "cell_type": "markdown",
   "metadata": {},
   "source": [
    "# Preliminary results\n",
    "\n",
    "NEW SECTION!\n",
    "\n",
    "Please show any preliminary results you have managed to obtain.\n",
    "\n",
    "Examples would include:\n",
    "- Analyzing the suitability of a dataset or alogrithm for prediction/solving your problem \n",
    "- Performing feature selection or hand-designing features from the raw data. Describe the features available/created and/or show the code for selection/creation\n",
    "- Showing the performance of a base model/hyper-parameter setting.  Solve the task with one \"default\" algorithm and characterize the performance level of that base model.\n",
    "- Learning curves or validation curves for a particular model\n",
    "- Tables/graphs showing the performance of different models/hyper-parameters\n",
    "\n"
   ]
  },
  {
   "cell_type": "markdown",
   "metadata": {},
   "source": [
    "# Ethics & Privacy"
   ]
  },
  {
   "cell_type": "markdown",
   "metadata": {},
   "source": [
    "Our datasets are from a public datasets with credible sources and not violating any privacy or terms of use agreement. Also, our datasets are not in the format of self-reported nor survey which removes any forms of biases. Most of our data is based on accurate statistical seasonal records of players from the NBA itself and other credible sources that put the focus only on the NBA statistics. The statistical seasonal records of NBA players is not used to expose any personal information nor criticize the players, but to help to analyze the statistics seasonal records of NBA players and predict who would be the next all-star player."
   ]
  },
  {
   "cell_type": "markdown",
   "metadata": {},
   "source": [
    "# Team Expectations "
   ]
  },
  {
   "cell_type": "markdown",
   "metadata": {},
   "source": [
    "Put things here that cement how you will interact/communicate as a team, how you will handle conflict and difficulty, how you will handle making decisions and setting goals/schedule, how much work you expect from each other, how you will handle deadlines, etc...\n",
    "* Communicating about when you are unable to do your part for some reason.\n",
    "* Willing to make time for team meetings.\n",
    "* Doing the work that you commit yourself to in the team meetings.\n",
    "* Even splitting of workload.\n",
    "* Completing tasks in a timely manner."
   ]
  },
  {
   "cell_type": "markdown",
   "metadata": {},
   "source": [
    "# Project Timeline Proposal"
   ]
  },
  {
   "cell_type": "markdown",
   "metadata": {},
   "source": [
    "Update accordingly\n",
    "\n",
    "| Meeting Date  | Meeting Time | Objectives  | \n",
    "|---|---|---|---|\n",
    "| 4/23  |  11 AM |  Brainstorm project ideas/datasets, communicate group guidelines (forms of communication, schedules, roles), complete Project Proposal  | \n",
    "| 4/30  |  11 AM |  Peer review of proposals, do background research, discuss datasets and cleaning, discuss ethics | \n",
    "| 5/7  | 11 AM  | data wrangling and possible analytical approaches, combine various datasets to create new views, assign group members to lead each specific part  | \n",
    "| 5/14  | 11 AM  | Review/edit data wrangling, discuss analysis plan, edit project code, Checkpoint | \n",
    "| 5/21  | 11 AM  | Peer review checkpoint, visualize data, discuss/edit project code | \n",
    "| 5/28  | 11 AM  | Discuss/edit full project| \n",
    "| 6/4  | 11 AM  | Have project ready for turn in on 6/8, team evaluation survey  | "
   ]
  },
  {
   "cell_type": "markdown",
   "metadata": {},
   "source": [
    "# Footnotes\n",
    "<a name=\"votinginfo\"></a>1.[^](#voting): Greer, J. (20 Jan 2022) NBA All-Star voting 2022: How it works, fan vote end date, latest results & leaders. *The Sporting News*. https://www.sportingnews.com/us/nba/news/nba-all-star-voting-2022-how-it-works-leaders-results-end-date/1ubkauu43tcfq1xoqp80sck14g<br> \n",
    "<a name=\"salarycapinfo\"></a>2.[^](#salary): NBA. (2 Aug 2021) Salary cap set at Hundred twelve point four million for 2021-22 season. *NBA*. https://www.nba.com/news/salary-cap-set-at-112-4-million-for-2021-22-season<br>\n",
    "<a name=\"espnpredict\"></a>3.[^](#espn): Sabin, P. (20 Jun 2017) Analytics help separate the All-Stars from the potential busts. *ESPN*. https://www.espn.com/nba/story/_/id/19681478/most-likely-all-stars-starters-role-players-top-2017-nba-draft<br>"
   ]
  },
  {
   "cell_type": "code",
   "execution_count": null,
   "metadata": {},
   "outputs": [],
   "source": []
  }
 ],
 "metadata": {
  "interpreter": {
   "hash": "b0a2bae065c42f68c340f16dd49e260e07d1f17a547027a904f074fd35588f8b"
  },
  "kernelspec": {
   "display_name": "Python 3 (ipykernel)",
   "language": "python",
   "name": "python3"
  },
  "language_info": {
   "codemirror_mode": {
    "name": "ipython",
    "version": 3
   },
   "file_extension": ".py",
   "mimetype": "text/x-python",
   "name": "python",
   "nbconvert_exporter": "python",
   "pygments_lexer": "ipython3",
   "version": "3.9.7"
  }
 },
 "nbformat": 4,
 "nbformat_minor": 2
}
