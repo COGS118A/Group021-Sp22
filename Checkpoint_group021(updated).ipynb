{
 "cells": [
  {
   "cell_type": "markdown",
   "metadata": {},
   "source": [
    "# COGS 118A- Project Checkpoint"
   ]
  },
  {
   "cell_type": "markdown",
   "metadata": {},
   "source": [
    "# Names\n",
    "\n",
    "- Jonathan Park\n",
    "- Daniel Lee\n",
    "- Suebeen Noh\n",
    "- Franklin Le\n",
    "- Daniel Renteria"
   ]
  },
  {
   "cell_type": "markdown",
   "metadata": {},
   "source": [
    "# Abstract \n",
    "\n",
    "The goal of our project is to use NBA player data to create a machine learning algorithm that will predict the likelihood of a player becoming an all-star. We will be looking at different player statistics from each regular season from 2011/12 through 2021/22 to create a regression line that predicts the likelihood of a player becoming an all-star. Success will be measured by testing the created model with earlier stats from players who became all-stars and seeing how accurate the predictions are."
   ]
  },
  {
   "cell_type": "markdown",
   "metadata": {},
   "source": [
    "# Background\n",
    "\n",
    "Around halfway through each NBA season, fans and media members vote on their favorite NBA players to play in the All-Star game. Fans are able to vote through various online means such as the NBA app, NBA website, and via Twitter<a name=\"voting\"></a>[<sup>[1]</sup>](#votinginfo), and represent 50% of the overall vote. Media members and current players make up the other 50%. Being selected as an all-star is a prestigious accomplishment, and many players take pride in the number of all-star games they participated in as a mark of their legacy and impact on basketball.\n",
    "\n",
    "For teams, it is vital to scout and sign players that they believe have the growth potential to become all-star level players, but do not yet command an enormous salary. This is because the NBA has a salary cap system, where there is a maximum amount of money they are able to spend on player salaries in one season. In the 2021/22 season for example, the salary cap was set to 112.4 million dollars<a name=\"salary\"></a>[<sup>[2]</sup>](#salarycapinfo). This sounds like a lot of money, but when top players make upwards of $50 million by themselves, this salary cap gets filled quickly. Because teams are looking for cheaper players with more growth potential, we believe that we can use machine learning to support the scouting systems already in place.\n",
    "\n",
    "In terms of prior work already done on this subject, there is already a lot of work being done in this particular field. For example, ESPN created a model in 2017 to predict which draft picks are likely to become all-stars <a name=\"espn\"></a>[<sup>[3]</sup>](#espnpredict). NBA teams often have their own analytics departments, and media outlets such as ESPN also recognize the power of using machine learning and analytics to predict which players have the most potential. We will be working to build off the wealth of knowledge afforded to us and create our own model that works as effectively as any others."
   ]
  },
  {
   "cell_type": "markdown",
   "metadata": {},
   "source": [
    "# Problem Statement\n",
    "\n",
    "The problem we are looking to answer is to predict which NBA players have the most potential to become all-stars. We will be using a variety of player stats and variables to create a model that can predict the growth of a player, and use that predicted growth to make an educated guess about the likelihood that they will become an all-star in the future. Given that we will be using 10 seasons of player data to build our player growth model, we feel that the volume of data will be adequate to ensure that the model will have a solid base of relatively unbiased data. This problem will be able to be replicated and expanded quite easily by adding more seasons of player data and including a wider range of players. We will also be able to test the model many times because every season there are new all-stars that are selected, and we can use this information to check the accuracy of the player growth model and making accurate all-star predictions."
   ]
  },
  {
   "cell_type": "markdown",
   "metadata": {},
   "source": [
    "# Data\n",
    "\n",
    "The data we will be using will come from an online NBA data resource called basketball-reference.com. This site includes all of the player data we will need from each season. Given that we will be working with 10 seasons of data from 2011/12 through 2021/22, we expect to have a dataset of about 5,000 - 6,000 observations and we will be looking at around 8 - 10 variables.\n",
    "\n",
    "- Example: https://www.basketball-reference.com/leagues/NBA_2019_per_game.html\n",
    "- Each season has 500 - 600 observations, so 10 seasons of data will give 5,000 - 6,000 observations.\n",
    "- Each observation is a player. Each observation has 28 variables, including Games, Team, Points, Rebounds, etc. We will be reducing the number of variables to only include the most relevant ones in determining all-star selection.\n",
    "- Some critical variables that will be included (but not limited to): Points per Game, 2-Point Percentage, Position, Assists per Game\n",
    "- The data we will use from basketball reference is already very clean, but likely we will remove any players that were only in the NBA for 1 season (given no growth to track), players with no NBA minutes played, and reduce the number of variables we will be looking at."
   ]
  },
  {
   "cell_type": "code",
   "execution_count": 1,
   "metadata": {},
   "outputs": [],
   "source": [
    "#importing data and packages\n",
    "import pandas as pd\n",
    "import numpy as np\n",
    "#TODO: PUT IN THE Y VALUES IN BASIC SINCE SOME PLAYERS DON'T GET ALL STAR EACH YEAR, EITHER SPLIT UP DATA FROM NBA_ALL_STARS OR USE PANDAS TO MATCH CORRECT VALUES\n",
    "NBA_Data = pd.DataFrame()\n",
    "All_Stars = pd.read_csv('DATA/NBA_ALL_STARS.csv', encoding = \"ISO-8859-1\")\n",
    "per_game_cols = ['TRB', 'AST','BLK','PTS']\n",
    "\n",
    "def name_change(a):\n",
    "    name = a.split('\\\\')[0]\n",
    "    if '*' in name:\n",
    "        name = name.split('*')[0]\n",
    "    return name\n",
    "\n",
    "def returnZero(a,b):\n",
    "        if a in list(b):\n",
    "            return 1\n",
    "        else:\n",
    "            return 0\n",
    "\n",
    "for i in range(13):\n",
    "    basic = pd.read_csv(f'DATA/NBA_STATS_{2010+i}.csv')\n",
    "    advanced = pd.read_csv(f'DATA/AD_NBA_STATS_{2010+i}.csv')\n",
    "    cols_to_use = advanced.columns.difference(basic.columns)\n",
    "    basic = pd.concat([basic, advanced[cols_to_use]],axis=1)\n",
    "    pergame = pd.read_csv(f'DATA/NBA_PerGame_{2010+i}.csv')\n",
    "    cols_to_use = pergame.columns.difference(basic.columns)\n",
    "    pergame_rename = {'TRB': 'Rebounds Per Game', 'AST': 'Assists Per Game', 'BLK': 'Blocks Per Game','PTS': 'Points Per Game'}\n",
    "    pergame.rename(columns=pergame_rename, inplace=True)\n",
    "    pergame = pergame[['Rebounds Per Game', 'Assists Per Game', 'Blocks Per Game','Points Per Game']]\n",
    "    basic = pd.concat([basic, pergame],axis=1)\n",
    "    basic['Player'] = basic['Player'].apply(lambda x: name_change(x))\n",
    "    basic.drop_duplicates(subset=['Player'], keep='first', inplace = True)\n",
    "    basic['All Stars'] = basic['Player'].apply(lambda x : returnZero(x,All_Stars[str(2010+i)]))\n",
    "    NBA_Data = pd.concat([NBA_Data, basic], axis=0)"
   ]
  },
  {
   "cell_type": "code",
   "execution_count": 2,
   "metadata": {},
   "outputs": [],
   "source": [
    "#dropping duplicates, and unnecessary data\n",
    "renameColumns = {'2P%': '2 Point Field Goal Percentage', '3P%': '3 Point Field Goal Percentage', \n",
    "                 'AST': 'Assists', 'PER': 'Player Efficiency Rating','TS%': 'True Shooting Percentage',\n",
    "                 'USG%': 'Usage Percentage', 'WS/48': 'Win Shares Per 48 Minutes',\n",
    "                 }\n",
    "NBA_Data.rename(columns=renameColumns, inplace=True)\n",
    "relevant_cols = ['Pos','Player', '3 Point Field Goal Percentage', '2 Point Field Goal Percentage', \n",
    "                'Player Efficiency Rating', 'True Shooting Percentage', 'Usage Percentage', \n",
    "                'Win Shares Per 48 Minutes', 'Rebounds Per Game', 'All Stars',\n",
    "                'Assists Per Game', 'Blocks Per Game', 'Points Per Game']\n",
    "NBA_Data = NBA_Data[relevant_cols]\n",
    "NBA_Data.reset_index(drop=True, inplace = True)"
   ]
  },
  {
   "cell_type": "code",
   "execution_count": 3,
   "metadata": {},
   "outputs": [],
   "source": [
    "#one hot encoding\n",
    "np.where(NBA_Data['Pos'].isin(['PF', 'PG','SF','SG', 'C']), NBA_Data['Pos'], 'other')\n",
    "posTemp = pd.get_dummies(NBA_Data['Pos'])\n",
    "NBA_Data = pd.concat([NBA_Data,posTemp], axis=1)\n",
    "\n",
    "def one_hot_multi(x):\n",
    "    for i in x['Pos'].split('-'):\n",
    "        x[i] = 1\n",
    "    return x\n",
    "\n",
    "NBA_Data[NBA_Data['Pos'].str.contains('-')] = NBA_Data[NBA_Data['Pos'].str.contains('-')].apply(lambda x: one_hot_multi(x), axis = 1)\n",
    "NBA_Data = NBA_Data[NBA_Data.columns.drop(list(NBA_Data.filter(regex='-')))]\n",
    "NBA_Data.drop(columns = ['Player','Pos'], inplace = True)\n",
    "NBA_Data.rename(columns={'C':'Center','PF':'Power Forward','PG':'Point Guard','SF':'Small Forward','SG':'Shooting Guard'}, inplace=True)\n",
    "NBA_Data.fillna(0, inplace=True)\n"
   ]
  },
  {
   "cell_type": "code",
   "execution_count": 16,
   "metadata": {},
   "outputs": [
    {
     "data": {
      "text/html": [
       "<div>\n",
       "<style scoped>\n",
       "    .dataframe tbody tr th:only-of-type {\n",
       "        vertical-align: middle;\n",
       "    }\n",
       "\n",
       "    .dataframe tbody tr th {\n",
       "        vertical-align: top;\n",
       "    }\n",
       "\n",
       "    .dataframe thead th {\n",
       "        text-align: right;\n",
       "    }\n",
       "</style>\n",
       "<table border=\"1\" class=\"dataframe\">\n",
       "  <thead>\n",
       "    <tr style=\"text-align: right;\">\n",
       "      <th></th>\n",
       "      <th>3 Point Field Goal Percentage</th>\n",
       "      <th>2 Point Field Goal Percentage</th>\n",
       "      <th>Player Efficiency Rating</th>\n",
       "      <th>True Shooting Percentage</th>\n",
       "      <th>Usage Percentage</th>\n",
       "      <th>Win Shares Per 48 Minutes</th>\n",
       "      <th>Rebounds Per Game</th>\n",
       "      <th>All Stars</th>\n",
       "      <th>Assists Per Game</th>\n",
       "      <th>Blocks Per Game</th>\n",
       "      <th>Points Per Game</th>\n",
       "      <th>Center</th>\n",
       "      <th>Power Forward</th>\n",
       "      <th>Point Guard</th>\n",
       "      <th>Small Forward</th>\n",
       "      <th>Shooting Guard</th>\n",
       "    </tr>\n",
       "  </thead>\n",
       "  <tbody>\n",
       "    <tr>\n",
       "      <th>0</th>\n",
       "      <td>0.434</td>\n",
       "      <td>0.488</td>\n",
       "      <td>10.9</td>\n",
       "      <td>0.576</td>\n",
       "      <td>14.0</td>\n",
       "      <td>0.092</td>\n",
       "      <td>3.1</td>\n",
       "      <td>0</td>\n",
       "      <td>1.7</td>\n",
       "      <td>0.4</td>\n",
       "      <td>8.8</td>\n",
       "      <td>0</td>\n",
       "      <td>0</td>\n",
       "      <td>0</td>\n",
       "      <td>0</td>\n",
       "      <td>1</td>\n",
       "    </tr>\n",
       "    <tr>\n",
       "      <th>1</th>\n",
       "      <td>0.000</td>\n",
       "      <td>0.500</td>\n",
       "      <td>6.3</td>\n",
       "      <td>0.479</td>\n",
       "      <td>19.3</td>\n",
       "      <td>-0.013</td>\n",
       "      <td>0.7</td>\n",
       "      <td>0</td>\n",
       "      <td>0.0</td>\n",
       "      <td>0.2</td>\n",
       "      <td>1.7</td>\n",
       "      <td>1</td>\n",
       "      <td>0</td>\n",
       "      <td>0</td>\n",
       "      <td>0</td>\n",
       "      <td>0</td>\n",
       "    </tr>\n",
       "    <tr>\n",
       "      <th>2</th>\n",
       "      <td>0.313</td>\n",
       "      <td>0.498</td>\n",
       "      <td>18.2</td>\n",
       "      <td>0.535</td>\n",
       "      <td>22.9</td>\n",
       "      <td>0.145</td>\n",
       "      <td>8.0</td>\n",
       "      <td>0</td>\n",
       "      <td>2.1</td>\n",
       "      <td>0.6</td>\n",
       "      <td>17.9</td>\n",
       "      <td>0</td>\n",
       "      <td>1</td>\n",
       "      <td>0</td>\n",
       "      <td>0</td>\n",
       "      <td>0</td>\n",
       "    </tr>\n",
       "    <tr>\n",
       "      <th>3</th>\n",
       "      <td>0.000</td>\n",
       "      <td>0.200</td>\n",
       "      <td>2.8</td>\n",
       "      <td>0.273</td>\n",
       "      <td>11.3</td>\n",
       "      <td>0.030</td>\n",
       "      <td>0.6</td>\n",
       "      <td>0</td>\n",
       "      <td>0.3</td>\n",
       "      <td>0.1</td>\n",
       "      <td>0.5</td>\n",
       "      <td>0</td>\n",
       "      <td>0</td>\n",
       "      <td>0</td>\n",
       "      <td>1</td>\n",
       "      <td>0</td>\n",
       "    </tr>\n",
       "    <tr>\n",
       "      <th>4</th>\n",
       "      <td>0.167</td>\n",
       "      <td>0.409</td>\n",
       "      <td>5.9</td>\n",
       "      <td>0.431</td>\n",
       "      <td>14.0</td>\n",
       "      <td>0.009</td>\n",
       "      <td>1.6</td>\n",
       "      <td>0</td>\n",
       "      <td>0.3</td>\n",
       "      <td>0.1</td>\n",
       "      <td>2.1</td>\n",
       "      <td>0</td>\n",
       "      <td>1</td>\n",
       "      <td>0</td>\n",
       "      <td>0</td>\n",
       "      <td>0</td>\n",
       "    </tr>\n",
       "    <tr>\n",
       "      <th>...</th>\n",
       "      <td>...</td>\n",
       "      <td>...</td>\n",
       "      <td>...</td>\n",
       "      <td>...</td>\n",
       "      <td>...</td>\n",
       "      <td>...</td>\n",
       "      <td>...</td>\n",
       "      <td>...</td>\n",
       "      <td>...</td>\n",
       "      <td>...</td>\n",
       "      <td>...</td>\n",
       "      <td>...</td>\n",
       "      <td>...</td>\n",
       "      <td>...</td>\n",
       "      <td>...</td>\n",
       "      <td>...</td>\n",
       "    </tr>\n",
       "    <tr>\n",
       "      <th>6514</th>\n",
       "      <td>0.354</td>\n",
       "      <td>0.554</td>\n",
       "      <td>17.0</td>\n",
       "      <td>0.548</td>\n",
       "      <td>17.4</td>\n",
       "      <td>0.126</td>\n",
       "      <td>4.0</td>\n",
       "      <td>0</td>\n",
       "      <td>2.0</td>\n",
       "      <td>0.3</td>\n",
       "      <td>6.2</td>\n",
       "      <td>0</td>\n",
       "      <td>1</td>\n",
       "      <td>0</td>\n",
       "      <td>0</td>\n",
       "      <td>0</td>\n",
       "    </tr>\n",
       "    <tr>\n",
       "      <th>6515</th>\n",
       "      <td>0.382</td>\n",
       "      <td>0.512</td>\n",
       "      <td>25.4</td>\n",
       "      <td>0.603</td>\n",
       "      <td>34.4</td>\n",
       "      <td>0.181</td>\n",
       "      <td>3.7</td>\n",
       "      <td>1</td>\n",
       "      <td>9.7</td>\n",
       "      <td>0.1</td>\n",
       "      <td>28.4</td>\n",
       "      <td>0</td>\n",
       "      <td>0</td>\n",
       "      <td>1</td>\n",
       "      <td>0</td>\n",
       "      <td>0</td>\n",
       "    </tr>\n",
       "    <tr>\n",
       "      <th>6516</th>\n",
       "      <td>0.091</td>\n",
       "      <td>0.547</td>\n",
       "      <td>17.4</td>\n",
       "      <td>0.546</td>\n",
       "      <td>19.9</td>\n",
       "      <td>0.145</td>\n",
       "      <td>5.3</td>\n",
       "      <td>0</td>\n",
       "      <td>0.9</td>\n",
       "      <td>0.4</td>\n",
       "      <td>5.3</td>\n",
       "      <td>1</td>\n",
       "      <td>0</td>\n",
       "      <td>0</td>\n",
       "      <td>0</td>\n",
       "      <td>0</td>\n",
       "    </tr>\n",
       "    <tr>\n",
       "      <th>6517</th>\n",
       "      <td>0.000</td>\n",
       "      <td>0.593</td>\n",
       "      <td>17.2</td>\n",
       "      <td>0.627</td>\n",
       "      <td>15.9</td>\n",
       "      <td>0.143</td>\n",
       "      <td>4.6</td>\n",
       "      <td>0</td>\n",
       "      <td>0.8</td>\n",
       "      <td>0.2</td>\n",
       "      <td>5.2</td>\n",
       "      <td>1</td>\n",
       "      <td>0</td>\n",
       "      <td>0</td>\n",
       "      <td>0</td>\n",
       "      <td>0</td>\n",
       "    </tr>\n",
       "    <tr>\n",
       "      <th>6518</th>\n",
       "      <td>0.000</td>\n",
       "      <td>0.626</td>\n",
       "      <td>19.2</td>\n",
       "      <td>0.660</td>\n",
       "      <td>16.8</td>\n",
       "      <td>0.187</td>\n",
       "      <td>8.5</td>\n",
       "      <td>0</td>\n",
       "      <td>1.6</td>\n",
       "      <td>1.0</td>\n",
       "      <td>10.3</td>\n",
       "      <td>1</td>\n",
       "      <td>0</td>\n",
       "      <td>0</td>\n",
       "      <td>0</td>\n",
       "      <td>0</td>\n",
       "    </tr>\n",
       "  </tbody>\n",
       "</table>\n",
       "<p>6519 rows × 16 columns</p>\n",
       "</div>"
      ],
      "text/plain": [
       "      3 Point Field Goal Percentage  2 Point Field Goal Percentage  \\\n",
       "0                             0.434                          0.488   \n",
       "1                             0.000                          0.500   \n",
       "2                             0.313                          0.498   \n",
       "3                             0.000                          0.200   \n",
       "4                             0.167                          0.409   \n",
       "...                             ...                            ...   \n",
       "6514                          0.354                          0.554   \n",
       "6515                          0.382                          0.512   \n",
       "6516                          0.091                          0.547   \n",
       "6517                          0.000                          0.593   \n",
       "6518                          0.000                          0.626   \n",
       "\n",
       "      Player Efficiency Rating  True Shooting Percentage  Usage Percentage  \\\n",
       "0                         10.9                     0.576              14.0   \n",
       "1                          6.3                     0.479              19.3   \n",
       "2                         18.2                     0.535              22.9   \n",
       "3                          2.8                     0.273              11.3   \n",
       "4                          5.9                     0.431              14.0   \n",
       "...                        ...                       ...               ...   \n",
       "6514                      17.0                     0.548              17.4   \n",
       "6515                      25.4                     0.603              34.4   \n",
       "6516                      17.4                     0.546              19.9   \n",
       "6517                      17.2                     0.627              15.9   \n",
       "6518                      19.2                     0.660              16.8   \n",
       "\n",
       "      Win Shares Per 48 Minutes  Rebounds Per Game  All Stars  \\\n",
       "0                         0.092                3.1          0   \n",
       "1                        -0.013                0.7          0   \n",
       "2                         0.145                8.0          0   \n",
       "3                         0.030                0.6          0   \n",
       "4                         0.009                1.6          0   \n",
       "...                         ...                ...        ...   \n",
       "6514                      0.126                4.0          0   \n",
       "6515                      0.181                3.7          1   \n",
       "6516                      0.145                5.3          0   \n",
       "6517                      0.143                4.6          0   \n",
       "6518                      0.187                8.5          0   \n",
       "\n",
       "      Assists Per Game  Blocks Per Game  Points Per Game  Center  \\\n",
       "0                  1.7              0.4              8.8       0   \n",
       "1                  0.0              0.2              1.7       1   \n",
       "2                  2.1              0.6             17.9       0   \n",
       "3                  0.3              0.1              0.5       0   \n",
       "4                  0.3              0.1              2.1       0   \n",
       "...                ...              ...              ...     ...   \n",
       "6514               2.0              0.3              6.2       0   \n",
       "6515               9.7              0.1             28.4       0   \n",
       "6516               0.9              0.4              5.3       1   \n",
       "6517               0.8              0.2              5.2       1   \n",
       "6518               1.6              1.0             10.3       1   \n",
       "\n",
       "      Power Forward  Point Guard  Small Forward  Shooting Guard  \n",
       "0                 0            0              0               1  \n",
       "1                 0            0              0               0  \n",
       "2                 1            0              0               0  \n",
       "3                 0            0              1               0  \n",
       "4                 1            0              0               0  \n",
       "...             ...          ...            ...             ...  \n",
       "6514              1            0              0               0  \n",
       "6515              0            1              0               0  \n",
       "6516              0            0              0               0  \n",
       "6517              0            0              0               0  \n",
       "6518              0            0              0               0  \n",
       "\n",
       "[6519 rows x 16 columns]"
      ]
     },
     "execution_count": 16,
     "metadata": {},
     "output_type": "execute_result"
    }
   ],
   "source": [
    "all_stars = NBA_Data[NBA_Data['All Stars'] == 1]\n",
    "NBA_Data"
   ]
  },
  {
   "cell_type": "code",
   "execution_count": 5,
   "metadata": {},
   "outputs": [],
   "source": [
    "from sklearn import preprocessing\n",
    "import matplotlib.pyplot as plt \n",
    "plt.rc(\"font\", size=14)\n",
    "from sklearn.linear_model import LogisticRegression\n",
    "from sklearn.model_selection import train_test_split\n",
    "import seaborn as sns\n",
    "sns.set(style=\"white\")\n",
    "sns.set(style=\"whitegrid\", color_codes=True)\n",
    "\n",
    "# this will be used for creating a logisitcal regression model in the future"
   ]
  },
  {
   "cell_type": "markdown",
   "metadata": {},
   "source": [
    "We plan on using logisical regression and predict the next future all stars by trying to predict the 'All Stars' varaible 1 = yes and 0 = no, based off the other per-game stats. We will be using the data from col = ['Pos','Player', '3 Point Field Goal Percentage', '2 Point Field Goal Percentage', \n",
    "                'Player Efficiency Rating', 'True Shooting Percentage', 'Usage Percentage', \n",
    "                'Win Shares Per 48 Minutes', 'Rebounds Per Game',\n",
    "                'Assists Per Game', 'Blocks Per Game', 'Points Per Game'] as the X and have the 'All Stars' variable be the Y.\n",
    "\n",
    "Although we were unfortunately unable to create the regression model for now, one idea that comes to mind is creating a logistical regression model that only uses data, aka their per game stats, from \n",
    "past all stars. Then, using this model, we can perhaps place this model with the rest of the nba player's stats and see which players are closest to this model (have the smallest error). \n",
    "\n",
    "Another proposed idea may be a classification model. This model will use data from past all stars to create a decision boundary. This any player that passes this boundary will be predicted as an \n",
    "all star and those who do not pass this boundary will not. One potential problem with this issue is the concept of positions in the nba.\n",
    "\n",
    "One potential problem that will occur is how to determine the next all stars if there are too many good players in a given position. For example, the top 10 players in the league stats-wise might \n",
    "all be guards, but because the all-star selection is based off position, only 4 guards will be selected instead of all 10. One way to fix this problem may be to differentiate players off their positions, \n",
    "however this may not guarantee good results and may lead to inaccuracies in the predictions."
   ]
  },
  {
   "cell_type": "markdown",
   "metadata": {},
   "source": [
    "# Proposed Solution\n",
    "\n",
    "Although the problem statement may still be subject to change, the current proposed problem statement is to create a machine learning program that could predict the success of a player based on their stats, measuring success as being part of an all-star team selection. We will use past all stars as the training subjects and test on this year’s all stars to determine how accurate the program is. One way that we can program this machine learning algorithm is by creating a boundary line that can separate non-allstars from all-stars. \n",
    "\n",
    "This might not be a viable solution due to the sheer number of ways players can impact winning basketball, but since nba all-stars historically are chosen due to their offensive impact, creating a boundary that favors offensive statistics like points and assists may help in creating a more accurate boundary. If there happens to be more than the total amount of all-star selections available, the program can choose players that are farther away from the boundary relative to other players and vice versa for the opposite scenario."
   ]
  },
  {
   "cell_type": "markdown",
   "metadata": {},
   "source": [
    "# SVM Linear Kernel"
   ]
  },
  {
   "cell_type": "code",
   "execution_count": 41,
   "metadata": {},
   "outputs": [],
   "source": [
    "from sklearn.svm import LinearSVC\n",
    "from sklearn.model_selection import cross_val_score\n",
    "from sklearn.model_selection import train_test_split\n",
    "from sklearn.metrics import confusion_matrix\n",
    "from sklearn.metrics import classification_report"
   ]
  },
  {
   "cell_type": "code",
   "execution_count": 42,
   "metadata": {},
   "outputs": [
    {
     "data": {
      "text/plain": [
       "Index(['3 Point Field Goal Percentage', '2 Point Field Goal Percentage',\n",
       "       'Player Efficiency Rating', 'True Shooting Percentage',\n",
       "       'Usage Percentage', 'Win Shares Per 48 Minutes', 'Rebounds Per Game',\n",
       "       'All Stars', 'Assists Per Game', 'Blocks Per Game', 'Points Per Game',\n",
       "       'Center', 'Power Forward', 'Point Guard', 'Small Forward',\n",
       "       'Shooting Guard'],\n",
       "      dtype='object')"
      ]
     },
     "execution_count": 42,
     "metadata": {},
     "output_type": "execute_result"
    }
   ],
   "source": [
    "NBA_Data.columns"
   ]
  },
  {
   "cell_type": "code",
   "execution_count": 43,
   "metadata": {},
   "outputs": [],
   "source": [
    "# Creating the data from our table for the features and the predicted variable\n",
    "\n",
    "X_features = ['3 Point Field Goal Percentage', '2 Point Field Goal Percentage',\n",
    "              'Player Efficiency Rating', 'True Shooting Percentage', \n",
    "              'Usage Percentage', 'Win Shares Per 48 Minutes', 'Rebounds Per Game', \n",
    "              'Assists Per Game', 'Blocks Per Game', 'Points Per Game']\n",
    "y_features = ['All Stars']\n",
    "\n",
    "X = NBA_Data.loc[:, X_features].values\n",
    "y = NBA_Data.loc[:, y_features].values"
   ]
  },
  {
   "cell_type": "code",
   "execution_count": 60,
   "metadata": {},
   "outputs": [],
   "source": [
    "# Creating an 80/20 training and testing split with the data\n",
    "\n",
    "X_train, X_test, y_train, y_test = train_test_split(X, y, test_size=0.2)"
   ]
  },
  {
   "cell_type": "code",
   "execution_count": 58,
   "metadata": {},
   "outputs": [
    {
     "name": "stdout",
     "output_type": "stream",
     "text": [
      "Score:  0.9693251533742331\n"
     ]
    }
   ],
   "source": [
    "# Create a Linear SVC, and find the score\n",
    "\n",
    "lsvc = LinearSVC(dual=False).fit(X_train, y_train.ravel())\n",
    "score = lsvc.score(X_test, y_test)\n",
    "print(\"Score: \", score)"
   ]
  },
  {
   "cell_type": "code",
   "execution_count": 61,
   "metadata": {},
   "outputs": [
    {
     "name": "stdout",
     "output_type": "stream",
     "text": [
      "Cross Validation Score Mean:  0.9687440076701822\n"
     ]
    }
   ],
   "source": [
    "# Use K-folds cross validation to test model robustness\n",
    "\n",
    "cv_scores = cross_val_score(lsvc, X_train, y_train.ravel(), cv=5)\n",
    "print(\"Cross Validation Score Mean: \", cv_scores.mean())"
   ]
  },
  {
   "cell_type": "code",
   "execution_count": 83,
   "metadata": {},
   "outputs": [
    {
     "data": {
      "image/png": "[encoded data removed]",
      "text/plain": [
       "<Figure size 640x480 with 1 Axes>"
      ]
     },
     "metadata": {},
     "output_type": "display_data"
    }
   ],
   "source": [
    "# Print scatter plot to view classification of the simplified dataset\n",
    "\n",
    "from sklearn.decomposition import PCA\n",
    "from itertools import cycle\n",
    "\n",
    "pca = PCA(n_components=2, whiten=True).fit(X)\n",
    "X_pca = pca.transform(X)\n",
    "\n",
    "colors = cycle('rgb')\n",
    "target_names = [0, 1]\n",
    "\n",
    "plt.figure(figsize=(8, 6), dpi=80)\n",
    "\n",
    "target_list = np.array(y).flatten()\n",
    "\n",
    "for t_name, c in zip(target_names, colors):\n",
    "    plt.scatter(X_pca[target_list == t_name, 0], X_pca[target_list ==t_name, 1], c=c, label=t_name)\n",
    "\n",
    "legend = plt.legend()\n",
    "legend.get_texts()[0].set_text(\"Non All-Star\")\n",
    "legend.get_texts()[1].set_text(\"All-Star\")\n",
    "plt.show()"
   ]
  },
  {
   "cell_type": "markdown",
   "metadata": {},
   "source": [
    "# Evaluation Metrics\n",
    "\n",
    "One metric thet we'll be using is Precision. The reason we'll be using Precision is because there are more NBA Players that do not become All Stars than there are that do make it. Since it's highly selective, we believe that that there will be various false positives in our data sets since the stats could be so similar. The formula for precision is: $$ \\frac{True \\ Positive}{True \\ Positive \\ + False \\ Positive} $$\n",
    "\n",
    "We will also be using an F1-Score in order to see where the cut off is in our model. We went against ROC because this data is not balanced. In order to find the F1 score, you must know recall, which is $$ \\frac{True \\ Positive}{True \\ Positive \\ + False \\ Neative} $$\n",
    "then you can get F1, which is: $$F_{\\beta} = (1+\\beta^2)\\frac{Precision \\cdot Recall}{\\beta^2 \\cdot Precision + Recall} $$"
   ]
  },
  {
   "cell_type": "markdown",
   "metadata": {},
   "source": [
    "# Preliminary results\n",
    "\n",
    "NEW SECTION!\n",
    "\n",
    "Please show any preliminary results you have managed to obtain.\n",
    "\n",
    "Examples would include:\n",
    "- Analyzing the suitability of a dataset or alogrithm for prediction/solving your problem \n",
    "- Performing feature selection or hand-designing features from the raw data. Describe the features available/created and/or show the code for selection/creation\n",
    "- Showing the performance of a base model/hyper-parameter setting.  Solve the task with one \"default\" algorithm and characterize the performance level of that base model.\n",
    "- Learning curves or validation curves for a particular model\n",
    "- Tables/graphs showing the performance of different models/hyper-parameters\n",
    "\n"
   ]
  },
  {
   "cell_type": "markdown",
   "metadata": {},
   "source": [
    "# Ethics & Privacy"
   ]
  },
  {
   "cell_type": "markdown",
   "metadata": {},
   "source": [
    "Our datasets are from a public datasets with credible sources and not violating any privacy or terms of use agreement. Also, our datasets are not in the format of self-reported nor survey which removes any forms of biases. Most of our data is based on accurate statistical seasonal records of players from the NBA itself and other credible sources that put the focus only on the NBA statistics. The statistical seasonal records of NBA players is not used to expose any personal information nor criticize the players, but to help to analyze the statistics seasonal records of NBA players and predict who would be the next all-star player."
   ]
  },
  {
   "cell_type": "markdown",
   "metadata": {},
   "source": [
    "# Team Expectations "
   ]
  },
  {
   "cell_type": "markdown",
   "metadata": {},
   "source": [
    "Put things here that cement how you will interact/communicate as a team, how you will handle conflict and difficulty, how you will handle making decisions and setting goals/schedule, how much work you expect from each other, how you will handle deadlines, etc...\n",
    "* Communicating about when you are unable to do your part for some reason.\n",
    "* Willing to make time for team meetings.\n",
    "* Doing the work that you commit yourself to in the team meetings.\n",
    "* Even splitting of workload.\n",
    "* Completing tasks in a timely manner."
   ]
  },
  {
   "cell_type": "markdown",
   "metadata": {},
   "source": [
    "# Project Timeline Proposal"
   ]
  },
  {
   "cell_type": "markdown",
   "metadata": {},
   "source": [
    "Update accordingly\n",
    "\n",
    "| Meeting Date  | Meeting Time | Objectives  | \n",
    "|---|---|---|---|\n",
    "| 4/23  |  11 AM |  Brainstorm project ideas/datasets, communicate group guidelines (forms of communication, schedules, roles), complete Project Proposal  | \n",
    "| 4/30  |  11 AM |  Peer review of proposals, do background research, discuss datasets and cleaning, discuss ethics | \n",
    "| 5/7  | 11 AM  | data wrangling and possible analytical approaches, combine various datasets to create new views, assign group members to lead each specific part  | \n",
    "| 5/14  | 11 AM  | Review/edit data wrangling, discuss analysis plan, edit project code, Checkpoint | \n",
    "| 5/21  | 11 AM  | Peer review checkpoint, visualize data, discuss/edit project code | \n",
    "| 5/28  | 11 AM  | Discuss/edit full project| \n",
    "| 6/4  | 11 AM  | Have project ready for turn in on 6/8, team evaluation survey  | "
   ]
  },
  {
   "cell_type": "markdown",
   "metadata": {},
   "source": [
    "# Footnotes\n",
    "<a name=\"votinginfo\"></a>1.[^](#voting): Greer, J. (20 Jan 2022) NBA All-Star voting 2022: How it works, fan vote end date, latest results & leaders. *The Sporting News*. https://www.sportingnews.com/us/nba/news/nba-all-star-voting-2022-how-it-works-leaders-results-end-date/1ubkauu43tcfq1xoqp80sck14g<br> \n",
    "<a name=\"salarycapinfo\"></a>2.[^](#salary): NBA. (2 Aug 2021) Salary cap set at Hundred twelve point four million for 2021-22 season. *NBA*. https://www.nba.com/news/salary-cap-set-at-112-4-million-for-2021-22-season<br>\n",
    "<a name=\"espnpredict\"></a>3.[^](#espn): Sabin, P. (20 Jun 2017) Analytics help separate the All-Stars from the potential busts. *ESPN*. https://www.espn.com/nba/story/_/id/19681478/most-likely-all-stars-starters-role-players-top-2017-nba-draft<br>"
   ]
  },
  {
   "cell_type": "code",
   "execution_count": null,
   "metadata": {},
   "outputs": [],
   "source": []
  }
 ],
 "metadata": {
  "interpreter": {
   "hash": "b0a2bae065c42f68c340f16dd49e260e07d1f17a547027a904f074fd35588f8b"
  },
  "kernelspec": {
   "display_name": "Python 3 (ipykernel)",
   "language": "python",
   "name": "python3"
  },
  "language_info": {
   "codemirror_mode": {
    "name": "ipython",
    "version": 3
   },
   "file_extension": ".py",
   "mimetype": "text/x-python",
   "name": "python",
   "nbconvert_exporter": "python",
   "pygments_lexer": "ipython3",
   "version": "3.9.7"
  }
 },
 "nbformat": 4,
 "nbformat_minor": 2
}
